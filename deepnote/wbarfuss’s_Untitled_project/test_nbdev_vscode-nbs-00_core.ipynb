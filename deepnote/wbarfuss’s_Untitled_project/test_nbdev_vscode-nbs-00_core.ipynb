{
  "cells": [
    {
      "cell_type": "markdown",
      "source": "# core\n\n> This is a test from deepnote",
      "metadata": {
        "cell_id": "fe0431bdd8174c9f884bccb4c9265722",
        "deepnote_cell_type": "markdown"
      },
      "block_group": "2ed75799e6a34e87bad88bd4caae3cf6"
    },
    {
      "cell_type": "code",
      "source": "#| default_exp core",
      "metadata": {
        "source_hash": null,
        "execution_start": 1698939529362,
        "execution_millis": 6,
        "deepnote_to_be_reexecuted": false,
        "cell_id": "ab0355bd9c104014af5722e298710dc2",
        "deepnote_cell_type": "code"
      },
      "outputs": [],
      "execution_count": null,
      "block_group": "a199a805e92440fdbe0d061b7d460155"
    },
    {
      "cell_type": "code",
      "source": "#| hidea\nfrom nbdev.showdoc import *",
      "metadata": {
        "source_hash": null,
        "execution_start": 1698939530210,
        "execution_millis": 377,
        "deepnote_to_be_reexecuted": false,
        "cell_id": "7045f62dbaea46fd94439e1506baf57d",
        "deepnote_cell_type": "code"
      },
      "outputs": [],
      "execution_count": null,
      "block_group": "020d9709f6db4879843274fd9b96579c"
    },
    {
      "cell_type": "code",
      "source": "import numpy as np\nfrom MARLDynamics.Agents.StrategyActorCritic import stratAC\nfrom MARLDynamics.Environments.SocialDilemma import SocialDilemma\nfrom MARLDynamics.Utils import FlowPlot as fp\n\n# Init enviornment and MultiAgentEnvironment-interface\nenv = SocialDilemma(R=1.0, T=0.8, S=-0.5, P=0.0)\nmae = stratAC(env=env, learning_rates=0.1, discount_factors=0.9)\n\n# Plot in phase space\nx = ([0], [0], [0])\ny = ([1], [0], [0])\nax = fp.plot_strategy_flow(mae, x, y, flowarrow_points = np.linspace(0.01 ,0.99, 9))",
      "metadata": {
        "source_hash": null,
        "execution_start": 1698938875334,
        "execution_millis": 6,
        "deepnote_to_be_reexecuted": false,
        "cell_id": "1e2065c84c1743df993cd9d2fb2a6943",
        "deepnote_cell_type": "code"
      },
      "outputs": [
        {
          "output_type": "error",
          "ename": "ModuleNotFoundError",
          "evalue": "No module named 'MARLDynamics'",
          "traceback": [
            "\u001b[0;31m---------------------------------------------------------------------------\u001b[0m",
            "\u001b[0;31mModuleNotFoundError\u001b[0m                       Traceback (most recent call last)",
            "Cell \u001b[0;32mIn [3], line 2\u001b[0m\n\u001b[1;32m      1\u001b[0m \u001b[38;5;28;01mimport\u001b[39;00m \u001b[38;5;21;01mnumpy\u001b[39;00m \u001b[38;5;28;01mas\u001b[39;00m \u001b[38;5;21;01mnp\u001b[39;00m\n\u001b[0;32m----> 2\u001b[0m \u001b[38;5;28;01mfrom\u001b[39;00m \u001b[38;5;21;01mMARLDynamics\u001b[39;00m\u001b[38;5;21;01m.\u001b[39;00m\u001b[38;5;21;01mAgents\u001b[39;00m\u001b[38;5;21;01m.\u001b[39;00m\u001b[38;5;21;01mStrategyActorCritic\u001b[39;00m \u001b[38;5;28;01mimport\u001b[39;00m stratAC\n\u001b[1;32m      3\u001b[0m \u001b[38;5;28;01mfrom\u001b[39;00m \u001b[38;5;21;01mMARLDynamics\u001b[39;00m\u001b[38;5;21;01m.\u001b[39;00m\u001b[38;5;21;01mEnvironments\u001b[39;00m\u001b[38;5;21;01m.\u001b[39;00m\u001b[38;5;21;01mSocialDilemma\u001b[39;00m \u001b[38;5;28;01mimport\u001b[39;00m SocialDilemma\n\u001b[1;32m      4\u001b[0m \u001b[38;5;28;01mfrom\u001b[39;00m \u001b[38;5;21;01mMARLDynamics\u001b[39;00m\u001b[38;5;21;01m.\u001b[39;00m\u001b[38;5;21;01mUtils\u001b[39;00m \u001b[38;5;28;01mimport\u001b[39;00m FlowPlot \u001b[38;5;28;01mas\u001b[39;00m fp\n",
            "\u001b[0;31mModuleNotFoundError\u001b[0m: No module named 'MARLDynamics'"
          ]
        }
      ],
      "execution_count": null,
      "block_group": "2d53bb22ac084c2b952c9a262a25398c"
    },
    {
      "cell_type": "code",
      "source": "#| export\ndef foo(): pass",
      "metadata": {
        "cell_id": "1f6abdc18d07468c8e9b28c38bda13e2",
        "deepnote_cell_type": "code"
      },
      "outputs": [],
      "execution_count": null,
      "block_group": "6aefb9c199354158893de6e2cf5104d3"
    },
    {
      "cell_type": "markdown",
      "source": "What is one plus three?",
      "metadata": {
        "cell_id": "6ffe1dfaba4f422aad2f572a7a2525b9",
        "deepnote_cell_type": "markdown"
      },
      "block_group": "e66bc7c91d104074858e9c5a19ad5fca"
    },
    {
      "cell_type": "code",
      "source": "1+3",
      "metadata": {
        "cell_id": "e9344344a2d541ddb7d2584a6bfda505",
        "deepnote_cell_type": "code"
      },
      "outputs": [
        {
          "data": {
            "text/plain": "4"
          },
          "execution_count": null,
          "metadata": {},
          "output_type": "execute_result"
        }
      ],
      "execution_count": null,
      "block_group": "9392d339663443bc963e4693038b5264"
    },
    {
      "cell_type": "code",
      "source": "import numpy as np\nimport matplotlib.pyplot as plt",
      "metadata": {
        "source_hash": null,
        "execution_start": 1698939543668,
        "execution_millis": 773,
        "deepnote_to_be_reexecuted": false,
        "cell_id": "c36beaddfe374178a91b5c0469429e0e",
        "deepnote_cell_type": "code"
      },
      "outputs": [],
      "execution_count": null,
      "block_group": "70bb2ca8c1f842218018802a270f1fb8"
    },
    {
      "cell_type": "code",
      "source": "x = np.random.randn(100)\ny = np.random.randn(100)\n\nplt.scatter(x, y)",
      "metadata": {
        "source_hash": null,
        "execution_start": 1698939545516,
        "execution_millis": 35,
        "deepnote_to_be_reexecuted": false,
        "cell_id": "3da5f86735d04380bd39ed7d4c7afbf6",
        "deepnote_cell_type": "code"
      },
      "outputs": [
        {
          "output_type": "execute_result",
          "execution_count": 11,
          "data": {
            "text/plain": "<matplotlib.collections.PathCollection at 0x7f20f087bee0>"
          },
          "metadata": {}
        },
        {
          "data": {
            "text/plain": "<Figure size 640x480 with 1 Axes>",
            "image/png": "[encoded data removed]"
          },
          "metadata": {
            "image/png": {
              "width": 546,
              "height": 413
            }
          },
          "output_type": "display_data"
        }
      ],
      "execution_count": null,
      "block_group": "e6ce3e57509e41bb94f5c82ee8c71dc1"
    },
    {
      "cell_type": "code",
      "source": "#| hide\nimport nbdev; nbdev.nbdev_export()",
      "metadata": {
        "source_hash": null,
        "execution_start": 1698939550673,
        "execution_millis": 1812,
        "deepnote_to_be_reexecuted": false,
        "cell_id": "9655dc82020d4aa7aa6bc1aea75a1572",
        "deepnote_cell_type": "code"
      },
      "outputs": [],
      "execution_count": null,
      "block_group": "be8e56e8f754472c9f44320824e1d7c1"
    },
    {
      "cell_type": "markdown",
      "source": "<a style='text-decoration:none;line-height:16px;display:flex;color:#5B5B62;padding:10px;justify-content:end;' href='https://deepnote.com?utm_source=created-in-deepnote-cell&projectId=f4f17c9b-56c3-47b4-b100-89f15994a75c' target=\"_blank\">\n<img alt='Created in deepnote.com' style='display:inline;max-height:16px;margin:0px;margin-right:7.5px;' src='data:image/svg+xml;base64,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' > </img>\nCreated in <span style='font-weight:600;margin-left:4px;'>Deepnote</span></a>",
      "metadata": {
        "created_in_deepnote_cell": true,
        "deepnote_cell_type": "markdown"
      }
    }
  ],
  "nbformat": 4,
  "nbformat_minor": 0,
  "metadata": {
    "deepnote": {},
    "kernelspec": {
      "name": "python3",
      "language": "python",
      "display_name": "python3"
    },
    "deepnote_notebook_id": "b3f8b915411946e7aa3d36149316d3d4",
    "deepnote_execution_queue": []
  }
}